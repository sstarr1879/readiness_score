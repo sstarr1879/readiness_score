{
 "cells": [
  {
   "cell_type": "code",
   "execution_count": 1,
   "metadata": {},
   "outputs": [],
   "source": [
    "import pandas as pd\n",
    "import pylab as pl\n",
    "import researchpy as rp\n",
    "from scipy import stats\n",
    "import numpy as np\n",
    "import itertools as it\n",
    "\n",
    "import statsmodels.api as sm\n",
    "from statsmodels.formula.api import ols\n",
    "import seaborn as sns\n",
    "from statsmodels.stats.multicomp import pairwise_tukeyhsd, MultiComparison\n",
    "\n",
    "%matplotlib inline"
   ]
  },
  {
   "cell_type": "code",
   "execution_count": 109,
   "metadata": {},
   "outputs": [],
   "source": [
    "metrics_frame = pd.read_excel('Readiness Score.xlsx', sheet_name='Data')\n"
   ]
  },
  {
   "cell_type": "markdown",
   "metadata": {},
   "source": [
    "### Exploratory data analysis"
   ]
  },
  {
   "cell_type": "code",
   "execution_count": 94,
   "metadata": {},
   "outputs": [
    {
     "data": {
      "text/html": [
       "<div>\n",
       "<style scoped>\n",
       "    .dataframe tbody tr th:only-of-type {\n",
       "        vertical-align: middle;\n",
       "    }\n",
       "\n",
       "    .dataframe tbody tr th {\n",
       "        vertical-align: top;\n",
       "    }\n",
       "\n",
       "    .dataframe thead th {\n",
       "        text-align: right;\n",
       "    }\n",
       "</style>\n",
       "<table border=\"1\" class=\"dataframe\">\n",
       "  <thead>\n",
       "    <tr style=\"text-align: right;\">\n",
       "      <th></th>\n",
       "      <th>ACTUAL UNIT</th>\n",
       "      <th>Total Readiness Score</th>\n",
       "    </tr>\n",
       "  </thead>\n",
       "  <tbody>\n",
       "    <tr>\n",
       "      <td>0</td>\n",
       "      <td>AUSTIN</td>\n",
       "      <td>48</td>\n",
       "    </tr>\n",
       "    <tr>\n",
       "      <td>1</td>\n",
       "      <td>BOSTON</td>\n",
       "      <td>56</td>\n",
       "    </tr>\n",
       "    <tr>\n",
       "      <td>2</td>\n",
       "      <td>CINO(IAAG)</td>\n",
       "      <td>41</td>\n",
       "    </tr>\n",
       "    <tr>\n",
       "      <td>3</td>\n",
       "      <td>CMD GRP</td>\n",
       "      <td>9</td>\n",
       "    </tr>\n",
       "    <tr>\n",
       "      <td>4</td>\n",
       "      <td>HHD</td>\n",
       "      <td>129</td>\n",
       "    </tr>\n",
       "    <tr>\n",
       "      <td>5</td>\n",
       "      <td>MNT VIEW</td>\n",
       "      <td>16</td>\n",
       "    </tr>\n",
       "    <tr>\n",
       "      <td>6</td>\n",
       "      <td>SUPPORT</td>\n",
       "      <td>45</td>\n",
       "    </tr>\n",
       "    <tr>\n",
       "      <td>7</td>\n",
       "      <td>Unknown</td>\n",
       "      <td>10</td>\n",
       "    </tr>\n",
       "  </tbody>\n",
       "</table>\n",
       "</div>"
      ],
      "text/plain": [
       "  ACTUAL UNIT  Total Readiness Score\n",
       "0      AUSTIN                     48\n",
       "1      BOSTON                     56\n",
       "2  CINO(IAAG)                     41\n",
       "3     CMD GRP                      9\n",
       "4         HHD                    129\n",
       "5    MNT VIEW                     16\n",
       "6     SUPPORT                     45\n",
       "7     Unknown                     10"
      ]
     },
     "execution_count": 94,
     "metadata": {},
     "output_type": "execute_result"
    }
   ],
   "source": [
    "count_unit = metrics_frame.groupby(['ACTUAL UNIT']).count().reset_index()\n",
    "count_unit[['ACTUAL UNIT', 'Total Readiness Score']]"
   ]
  },
  {
   "cell_type": "code",
   "execution_count": 51,
   "metadata": {},
   "outputs": [
    {
     "data": {
      "text/plain": [
       "Text(0.5, 1.0, 'Count by ACTUAL UNIT')"
      ]
     },
     "execution_count": 51,
     "metadata": {},
     "output_type": "execute_result"
    },
    {
     "data": {
      "image/png": "[encoded data removed]",
      "text/plain": [
       "<Figure size 432x288 with 1 Axes>"
      ]
     },
     "metadata": {
      "needs_background": "light"
     },
     "output_type": "display_data"
    }
   ],
   "source": [
    "ax = count_unit.plot.bar(x='ACTUAL UNIT',y='Full Name', rot=0)\n",
    "ax.tick_params(axis='x', labelrotation=45)\n",
    "ax.set_title('Count by ACTUAL UNIT')\n"
   ]
  },
  {
   "cell_type": "code",
   "execution_count": 70,
   "metadata": {},
   "outputs": [
    {
     "name": "stdout",
     "output_type": "stream",
     "text": [
      "Total Readiness Score Overall Stats:\n",
      "\n",
      "\n",
      "                Variable      N       Mean         SD        SE  95% Conf.  \\\n",
      "0  Total Readiness Score  354.0  33.601271  22.714166  1.207244  31.226975   \n",
      "\n",
      "    Interval  \n",
      "0  35.975567  \n",
      "Total Readiness Score Grouped by ACTUAL UNIT Stats:\n",
      "\n",
      "\n",
      "               N       Mean         SD        SE  95% Conf.   Interval\n",
      "ACTUAL UNIT                                                           \n",
      "AUSTIN        48  41.362500  23.822586  3.438494  34.551733  48.173267\n",
      "BOSTON        56  35.507143  26.370754  3.523940  28.537713  42.476573\n",
      "CINO(IAAG)    41  32.363415  18.626980  2.909046  26.590854  38.135975\n",
      "CMD GRP        9  26.200000  26.249143  8.749714   8.010272  44.389728\n",
      "HHD          129  29.683721  21.716104  1.911996  25.921598  33.445844\n",
      "MNT VIEW      16  43.518750  29.044477  7.261119  28.820217  58.217283\n",
      "SUPPORT       45  30.866667  16.256244  2.423338  26.063254  35.670080\n",
      "Unknown       10  44.385000  22.271781  7.042956  29.834103  58.935897\n"
     ]
    }
   ],
   "source": [
    "print('Total Readiness Score Overall Stats:')\n",
    "print(rp.summary_cont(metrics_frame['Total Readiness Score']))\n",
    "print('Total Readiness Score Grouped by ACTUAL UNIT Stats:')\n",
    "print(rp.summary_cont(metrics_frame['Total Readiness Score'].groupby(metrics_frame['ACTUAL UNIT'])))\n",
    "\n"
   ]
  },
  {
   "cell_type": "code",
   "execution_count": 64,
   "metadata": {},
   "outputs": [
    {
     "data": {
      "text/plain": [
       "Text(0.5, 0.98, 'Total Readiness Score Distribution')"
      ]
     },
     "execution_count": 64,
     "metadata": {},
     "output_type": "execute_result"
    },
    {
     "data": {
      "image/png": "[encoded data removed]",
      "text/plain": [
       "<Figure size 432x288 with 1 Axes>"
      ]
     },
     "metadata": {
      "needs_background": "light"
     },
     "output_type": "display_data"
    }
   ],
   "source": [
    "metrics_frame['Total Readiness Score'].hist()\n",
    "pl.suptitle(\"Total Readiness Score Distribution\")\n"
   ]
  },
  {
   "cell_type": "code",
   "execution_count": 65,
   "metadata": {},
   "outputs": [
    {
     "data": {
      "text/plain": [
       "array([[<matplotlib.axes._subplots.AxesSubplot object at 0x000002514C65E948>,\n",
       "        <matplotlib.axes._subplots.AxesSubplot object at 0x000002514C6822C8>,\n",
       "        <matplotlib.axes._subplots.AxesSubplot object at 0x000002514C6B4708>],\n",
       "       [<matplotlib.axes._subplots.AxesSubplot object at 0x000002514C6E5D48>,\n",
       "        <matplotlib.axes._subplots.AxesSubplot object at 0x000002514C7215C8>,\n",
       "        <matplotlib.axes._subplots.AxesSubplot object at 0x000002514C757348>],\n",
       "       [<matplotlib.axes._subplots.AxesSubplot object at 0x000002514C78D0C8>,\n",
       "        <matplotlib.axes._subplots.AxesSubplot object at 0x000002514C7C2F08>,\n",
       "        <matplotlib.axes._subplots.AxesSubplot object at 0x000002514C7CDB08>]],\n",
       "      dtype=object)"
      ]
     },
     "execution_count": 65,
     "metadata": {},
     "output_type": "execute_result"
    },
    {
     "data": {
      "image/png": "[encoded data removed]",
      "text/plain": [
       "<Figure size 1440x1440 with 9 Axes>"
      ]
     },
     "metadata": {
      "needs_background": "light"
     },
     "output_type": "display_data"
    }
   ],
   "source": [
    "metrics_frame['Total Readiness Score'].hist(by=metrics_frame['ACTUAL UNIT'], \n",
    "                                           figsize=(20,20))\n",
    "#plt.figure(figsize=(20,20))\n"
   ]
  },
  {
   "cell_type": "code",
   "execution_count": 4,
   "metadata": {},
   "outputs": [],
   "source": []
  },
  {
   "cell_type": "code",
   "execution_count": 72,
   "metadata": {},
   "outputs": [],
   "source": [
    "def create_subsets(groupa, groupb):\n",
    "    print('comparing %s and %s:' % (groupa, groupb))\n",
    "    unit_loc_a = groupa\n",
    "    unit_a_df = metrics_frame.loc[metrics_frame['ACTUAL UNIT'] == unit_loc_a]\n",
    "    print('Group %s with average score %s and size %s' % (groupa, \n",
    "                                                          unit_a_df['Total Readiness Score'].mean(),\n",
    "                                                          len(unit_a_df)))\n",
    "    unit_loc_b = groupb\n",
    "    unit_b_df = metrics_frame.loc[metrics_frame['ACTUAL UNIT'] == unit_loc_b]\n",
    "    print('Group %s with average score %s and size %s' % (groupb, \n",
    "                                                          unit_b_df['Total Readiness Score'].mean(),\n",
    "                                                          len(unit_b_df)))\n",
    "    return unit_a_df, unit_b_df"
   ]
  },
  {
   "cell_type": "code",
   "execution_count": 73,
   "metadata": {},
   "outputs": [],
   "source": [
    "\n",
    "def run_t_test(unit_a, unit_b):\n",
    "    t2, p2 = stats.ttest_ind(unit_a['Total Readiness Score'], unit_b['Total Readiness Score'])\n",
    "    print('T value: {}'.format(t2))\n",
    "    print('P value: {}'.format(p2))\n",
    "    return t2,p2"
   ]
  },
  {
   "cell_type": "code",
   "execution_count": 90,
   "metadata": {},
   "outputs": [
    {
     "data": {
      "text/plain": [
       "array(['CMD GRP', 'HHD', 'Unknown', 'SUPPORT', 'CINO(IAAG)', 'MNT VIEW',\n",
       "       'BOSTON', 'AUSTIN'], dtype=object)"
      ]
     },
     "execution_count": 90,
     "metadata": {},
     "output_type": "execute_result"
    }
   ],
   "source": [
    "metrics_frame['ACTUAL UNIT'].unique()"
   ]
  },
  {
   "cell_type": "code",
   "execution_count": 74,
   "metadata": {},
   "outputs": [
    {
     "name": "stdout",
     "output_type": "stream",
     "text": [
      "comparing CMD GRP and HHD:\n",
      "Group CMD GRP with average score 26.2 and size 9\n",
      "Group HHD with average score 29.68372093023258 and size 129\n",
      "T value: -0.45912107898110277\n",
      "P value: 0.6468801886055227\n",
      "comparing CMD GRP and Unknown:\n",
      "Group CMD GRP with average score 26.2 and size 9\n",
      "Group Unknown with average score 44.385 and size 10\n",
      "T value: -1.633783986639706\n",
      "P value: 0.12068573281449997\n",
      "comparing CMD GRP and SUPPORT:\n",
      "Group CMD GRP with average score 26.2 and size 9\n",
      "Group SUPPORT with average score 30.866666666666653 and size 45\n",
      "T value: -0.7039405061785858\n",
      "P value: 0.48461031112557185\n",
      "comparing CMD GRP and CINO(IAAG):\n",
      "Group CMD GRP with average score 26.2 and size 9\n",
      "Group CINO(IAAG) with average score 32.36341463414633 and size 41\n",
      "T value: -0.8330542259027623\n",
      "P value: 0.4089402434898416\n",
      "comparing CMD GRP and MNT VIEW:\n",
      "Group CMD GRP with average score 26.2 and size 9\n",
      "Group MNT VIEW with average score 43.51875 and size 16\n",
      "T value: -1.4789846586151494\n",
      "P value: 0.1527109022389067\n",
      "comparing CMD GRP and BOSTON:\n",
      "Group CMD GRP with average score 26.2 and size 9\n",
      "Group BOSTON with average score 35.507142857142846 and size 56\n",
      "T value: -0.9833458843418924\n",
      "P value: 0.32919869651410816\n",
      "comparing CMD GRP and AUSTIN:\n",
      "Group CMD GRP with average score 26.2 and size 9\n",
      "Group AUSTIN with average score 41.36249999999999 and size 48\n",
      "T value: -1.725549150649824\n",
      "P value: 0.09004355779933085\n",
      "comparing HHD and Unknown:\n",
      "Group HHD with average score 29.68372093023258 and size 129\n",
      "Group Unknown with average score 44.385 and size 10\n",
      "T value: -2.0588396959817965\n",
      "P value: 0.041404102026120736\n",
      "comparing HHD and SUPPORT:\n",
      "Group HHD with average score 29.68372093023258 and size 129\n",
      "Group SUPPORT with average score 30.866666666666653 and size 45\n",
      "T value: -0.3339766795345937\n",
      "P value: 0.7388039980786751\n",
      "comparing HHD and CINO(IAAG):\n",
      "Group HHD with average score 29.68372093023258 and size 129\n",
      "Group CINO(IAAG) with average score 32.36341463414633 and size 41\n",
      "T value: -0.7110126288680302\n",
      "P value: 0.47806238570303883\n",
      "comparing HHD and MNT VIEW:\n",
      "Group HHD with average score 29.68372093023258 and size 129\n",
      "Group MNT VIEW with average score 43.51875 and size 16\n",
      "T value: -2.3099710149017882\n",
      "P value: 0.022320957334294445\n",
      "comparing HHD and BOSTON:\n",
      "Group HHD with average score 29.68372093023258 and size 129\n",
      "Group BOSTON with average score 35.507142857142846 and size 56\n",
      "T value: -1.5676293718501286\n",
      "P value: 0.11869516963588062\n",
      "comparing HHD and AUSTIN:\n",
      "Group HHD with average score 29.68372093023258 and size 129\n",
      "Group AUSTIN with average score 41.36249999999999 and size 48\n",
      "T value: -3.0973781376522482\n",
      "P value: 0.0022747360622976604\n",
      "comparing Unknown and SUPPORT:\n",
      "Group Unknown with average score 44.385 and size 10\n",
      "Group SUPPORT with average score 30.866666666666653 and size 45\n",
      "T value: 2.219123065344937\n",
      "P value: 0.030781731623556206\n",
      "comparing Unknown and CINO(IAAG):\n",
      "Group Unknown with average score 44.385 and size 10\n",
      "Group CINO(IAAG) with average score 32.36341463414633 and size 41\n",
      "T value: 1.7617043868047435\n",
      "P value: 0.084357407971919\n",
      "comparing Unknown and MNT VIEW:\n",
      "Group Unknown with average score 44.385 and size 10\n",
      "Group MNT VIEW with average score 43.51875 and size 16\n",
      "T value: 0.0804628644559625\n",
      "P value: 0.9365363471575063\n",
      "comparing Unknown and BOSTON:\n",
      "Group Unknown with average score 44.385 and size 10\n",
      "Group BOSTON with average score 35.507142857142846 and size 56\n",
      "T value: 1.0010232779757886\n",
      "P value: 0.32058538192310676\n",
      "comparing Unknown and AUSTIN:\n",
      "Group Unknown with average score 44.385 and size 10\n",
      "Group AUSTIN with average score 41.36249999999999 and size 48\n",
      "T value: 0.3687439605808447\n",
      "P value: 0.7137090321645936\n",
      "comparing SUPPORT and CINO(IAAG):\n",
      "Group SUPPORT with average score 30.866666666666653 and size 45\n",
      "Group CINO(IAAG) with average score 32.36341463414633 and size 41\n",
      "T value: -0.3978450235540692\n",
      "P value: 0.6917537115077471\n",
      "comparing SUPPORT and MNT VIEW:\n",
      "Group SUPPORT with average score 30.866666666666653 and size 45\n",
      "Group MNT VIEW with average score 43.51875 and size 16\n",
      "T value: -2.1426561387033667\n",
      "P value: 0.03627691663802901\n",
      "comparing SUPPORT and BOSTON:\n",
      "Group SUPPORT with average score 30.866666666666653 and size 45\n",
      "Group BOSTON with average score 35.507142857142846 and size 56\n",
      "T value: -1.0327035627999999\n",
      "P value: 0.304258851557716\n",
      "comparing SUPPORT and AUSTIN:\n",
      "Group SUPPORT with average score 30.866666666666653 and size 45\n",
      "Group AUSTIN with average score 41.36249999999999 and size 48\n",
      "T value: -2.4655763906929464\n",
      "P value: 0.015554405208088975\n",
      "comparing CINO(IAAG) and MNT VIEW:\n",
      "Group CINO(IAAG) with average score 32.36341463414633 and size 41\n",
      "Group MNT VIEW with average score 43.51875 and size 16\n",
      "T value: -1.7230227917705379\n",
      "P value: 0.09050303183268919\n",
      "comparing CINO(IAAG) and BOSTON:\n",
      "Group CINO(IAAG) with average score 32.36341463414633 and size 41\n",
      "Group BOSTON with average score 35.507142857142846 and size 56\n",
      "T value: -0.6529465339618451\n",
      "P value: 0.5153678087718834\n",
      "comparing CINO(IAAG) and AUSTIN:\n",
      "Group CINO(IAAG) with average score 32.36341463414633 and size 41\n",
      "Group AUSTIN with average score 41.36249999999999 and size 48\n",
      "T value: -1.960064814552019\n",
      "P value: 0.053188742075837445\n",
      "comparing MNT VIEW and BOSTON:\n",
      "Group MNT VIEW with average score 43.51875 and size 16\n",
      "Group BOSTON with average score 35.507142857142846 and size 56\n",
      "T value: 1.0480705738316172\n",
      "P value: 0.29821140553719944\n",
      "comparing MNT VIEW and AUSTIN:\n",
      "Group MNT VIEW with average score 43.51875 and size 16\n",
      "Group AUSTIN with average score 41.36249999999999 and size 48\n",
      "T value: 0.29657900868421294\n",
      "P value: 0.7677791977259564\n",
      "comparing BOSTON and AUSTIN:\n",
      "Group BOSTON with average score 35.507142857142846 and size 56\n",
      "Group AUSTIN with average score 41.36249999999999 and size 48\n",
      "T value: -1.1799356887917032\n",
      "P value: 0.24077036521605888\n"
     ]
    }
   ],
   "source": [
    "t_list = []\n",
    "p_list = []\n",
    "group_list = []\n",
    "group1_vals = []\n",
    "group2_vals = []\n",
    "group1_mean = []\n",
    "group2_mean = []\n",
    "group1_size = []\n",
    "group2_size = []\n",
    "group1_std = []\n",
    "group2_std = []\n",
    "combinations = list(it.combinations(metrics_frame['ACTUAL UNIT'].unique(),2))\n",
    "for group1, group2 in combinations: \n",
    "    group1_df, group2_df = create_subsets(group1, group2)\n",
    "    t, p = run_t_test(group1_df, group2_df)\n",
    "    t_list.append(t)\n",
    "    p_list.append(p)\n",
    "    group_list.append((group1,group2)),\n",
    "    group1_vals.append(group1),\n",
    "    group2_vals.append(group2),\n",
    "    group1_mean.append(group1_df['Total Readiness Score'].mean()),\n",
    "    group2_mean.append(group2_df['Total Readiness Score'].mean()),\n",
    "    group1_size.append(len(group1_df)),\n",
    "    group2_size.append(len(group2_df)),\n",
    "    group1_std.append(group1_df['Total Readiness Score'].std()),\n",
    "    group2_std.append(group2_df['Total Readiness Score'].std())"
   ]
  },
  {
   "cell_type": "code",
   "execution_count": 75,
   "metadata": {},
   "outputs": [],
   "source": [
    "t_test_frame = pd.DataFrame({'group':group_list,'t_value':t_list,'p_value':p_list,\n",
    "                            'group1':group1_vals,'group1_size':group1_size,'group1_mean':group1_mean,\n",
    "                            'group1_std':group1_std,'group2':group2_vals,'group2_size':group2_size,\n",
    "                             'group2_mean':group2_mean, 'group2_std':group2_std,})"
   ]
  },
  {
   "cell_type": "code",
   "execution_count": 76,
   "metadata": {},
   "outputs": [
    {
     "data": {
      "image/png": "[encoded data removed]",
      "text/plain": [
       "<Figure size 432x288 with 1 Axes>"
      ]
     },
     "metadata": {
      "needs_background": "light"
     },
     "output_type": "display_data"
    }
   ],
   "source": [
    "boxlot = t_test_frame.boxplot(column=(['t_value']))"
   ]
  },
  {
   "cell_type": "code",
   "execution_count": 77,
   "metadata": {},
   "outputs": [],
   "source": [
    "#t_test_frame.to_csv(r'C:\\Users\\sarah\\Documents\\python\\readiness_score_output\\t_test_frame_CITY_SECTION.csv')"
   ]
  },
  {
   "cell_type": "code",
   "execution_count": 95,
   "metadata": {},
   "outputs": [
    {
     "data": {
      "text/html": [
       "<div>\n",
       "<style scoped>\n",
       "    .dataframe tbody tr th:only-of-type {\n",
       "        vertical-align: middle;\n",
       "    }\n",
       "\n",
       "    .dataframe tbody tr th {\n",
       "        vertical-align: top;\n",
       "    }\n",
       "\n",
       "    .dataframe thead th {\n",
       "        text-align: right;\n",
       "    }\n",
       "</style>\n",
       "<table border=\"1\" class=\"dataframe\">\n",
       "  <thead>\n",
       "    <tr style=\"text-align: right;\">\n",
       "      <th></th>\n",
       "      <th>group</th>\n",
       "      <th>t_value</th>\n",
       "      <th>p_value</th>\n",
       "      <th>group1</th>\n",
       "      <th>group1_size</th>\n",
       "      <th>group1_mean</th>\n",
       "      <th>group1_std</th>\n",
       "      <th>group2</th>\n",
       "      <th>group2_size</th>\n",
       "      <th>group2_mean</th>\n",
       "      <th>group2_std</th>\n",
       "    </tr>\n",
       "  </thead>\n",
       "  <tbody>\n",
       "    <tr>\n",
       "      <td>0</td>\n",
       "      <td>(CMD GRP, HHD)</td>\n",
       "      <td>-0.459121</td>\n",
       "      <td>0.646880</td>\n",
       "      <td>CMD GRP</td>\n",
       "      <td>9</td>\n",
       "      <td>26.2</td>\n",
       "      <td>26.249143</td>\n",
       "      <td>HHD</td>\n",
       "      <td>129</td>\n",
       "      <td>29.683721</td>\n",
       "      <td>21.716104</td>\n",
       "    </tr>\n",
       "    <tr>\n",
       "      <td>1</td>\n",
       "      <td>(CMD GRP, Unknown)</td>\n",
       "      <td>-1.633784</td>\n",
       "      <td>0.120686</td>\n",
       "      <td>CMD GRP</td>\n",
       "      <td>9</td>\n",
       "      <td>26.2</td>\n",
       "      <td>26.249143</td>\n",
       "      <td>Unknown</td>\n",
       "      <td>10</td>\n",
       "      <td>44.385000</td>\n",
       "      <td>22.271781</td>\n",
       "    </tr>\n",
       "    <tr>\n",
       "      <td>2</td>\n",
       "      <td>(CMD GRP, SUPPORT)</td>\n",
       "      <td>-0.703941</td>\n",
       "      <td>0.484610</td>\n",
       "      <td>CMD GRP</td>\n",
       "      <td>9</td>\n",
       "      <td>26.2</td>\n",
       "      <td>26.249143</td>\n",
       "      <td>SUPPORT</td>\n",
       "      <td>45</td>\n",
       "      <td>30.866667</td>\n",
       "      <td>16.256244</td>\n",
       "    </tr>\n",
       "    <tr>\n",
       "      <td>3</td>\n",
       "      <td>(CMD GRP, CINO(IAAG))</td>\n",
       "      <td>-0.833054</td>\n",
       "      <td>0.408940</td>\n",
       "      <td>CMD GRP</td>\n",
       "      <td>9</td>\n",
       "      <td>26.2</td>\n",
       "      <td>26.249143</td>\n",
       "      <td>CINO(IAAG)</td>\n",
       "      <td>41</td>\n",
       "      <td>32.363415</td>\n",
       "      <td>18.626980</td>\n",
       "    </tr>\n",
       "    <tr>\n",
       "      <td>4</td>\n",
       "      <td>(CMD GRP, MNT VIEW)</td>\n",
       "      <td>-1.478985</td>\n",
       "      <td>0.152711</td>\n",
       "      <td>CMD GRP</td>\n",
       "      <td>9</td>\n",
       "      <td>26.2</td>\n",
       "      <td>26.249143</td>\n",
       "      <td>MNT VIEW</td>\n",
       "      <td>16</td>\n",
       "      <td>43.518750</td>\n",
       "      <td>29.044477</td>\n",
       "    </tr>\n",
       "  </tbody>\n",
       "</table>\n",
       "</div>"
      ],
      "text/plain": [
       "                   group   t_value   p_value   group1  group1_size  \\\n",
       "0         (CMD GRP, HHD) -0.459121  0.646880  CMD GRP            9   \n",
       "1     (CMD GRP, Unknown) -1.633784  0.120686  CMD GRP            9   \n",
       "2     (CMD GRP, SUPPORT) -0.703941  0.484610  CMD GRP            9   \n",
       "3  (CMD GRP, CINO(IAAG)) -0.833054  0.408940  CMD GRP            9   \n",
       "4    (CMD GRP, MNT VIEW) -1.478985  0.152711  CMD GRP            9   \n",
       "\n",
       "   group1_mean  group1_std      group2  group2_size  group2_mean  group2_std  \n",
       "0         26.2   26.249143         HHD          129    29.683721   21.716104  \n",
       "1         26.2   26.249143     Unknown           10    44.385000   22.271781  \n",
       "2         26.2   26.249143     SUPPORT           45    30.866667   16.256244  \n",
       "3         26.2   26.249143  CINO(IAAG)           41    32.363415   18.626980  \n",
       "4         26.2   26.249143    MNT VIEW           16    43.518750   29.044477  "
      ]
     },
     "execution_count": 95,
     "metadata": {},
     "output_type": "execute_result"
    }
   ],
   "source": [
    "t_test_frame.head()"
   ]
  },
  {
   "cell_type": "code",
   "execution_count": 79,
   "metadata": {},
   "outputs": [],
   "source": [
    "#metrics_frame['CITY/SECTION'].nunique()\n",
    "metrics_frame['trs'] = metrics_frame['Total Readiness Score']\n",
    "#metrics_frame['city_section'] = metrics_frame['CITY/SECTION']\n",
    "metrics_frame['actual_unit'] = metrics_frame['ACTUAL UNIT']\n"
   ]
  },
  {
   "cell_type": "markdown",
   "metadata": {},
   "source": [
    "### One Way ANOVA "
   ]
  },
  {
   "cell_type": "code",
   "execution_count": 80,
   "metadata": {},
   "outputs": [],
   "source": [
    "mod = ols('trs ~ actual_unit', data=metrics_frame).fit()"
   ]
  },
  {
   "cell_type": "code",
   "execution_count": 81,
   "metadata": {},
   "outputs": [
    {
     "data": {
      "text/html": [
       "<table class=\"simpletable\">\n",
       "<caption>OLS Regression Results</caption>\n",
       "<tr>\n",
       "  <th>Dep. Variable:</th>           <td>trs</td>       <th>  R-squared:         </th> <td>   0.048</td>\n",
       "</tr>\n",
       "<tr>\n",
       "  <th>Model:</th>                   <td>OLS</td>       <th>  Adj. R-squared:    </th> <td>   0.029</td>\n",
       "</tr>\n",
       "<tr>\n",
       "  <th>Method:</th>             <td>Least Squares</td>  <th>  F-statistic:       </th> <td>   2.481</td>\n",
       "</tr>\n",
       "<tr>\n",
       "  <th>Date:</th>             <td>Fri, 10 Apr 2020</td> <th>  Prob (F-statistic):</th>  <td>0.0170</td> \n",
       "</tr>\n",
       "<tr>\n",
       "  <th>Time:</th>                 <td>14:12:25</td>     <th>  Log-Likelihood:    </th> <td> -1598.7</td>\n",
       "</tr>\n",
       "<tr>\n",
       "  <th>No. Observations:</th>      <td>   354</td>      <th>  AIC:               </th> <td>   3213.</td>\n",
       "</tr>\n",
       "<tr>\n",
       "  <th>Df Residuals:</th>          <td>   346</td>      <th>  BIC:               </th> <td>   3244.</td>\n",
       "</tr>\n",
       "<tr>\n",
       "  <th>Df Model:</th>              <td>     7</td>      <th>                     </th>     <td> </td>   \n",
       "</tr>\n",
       "<tr>\n",
       "  <th>Covariance Type:</th>      <td>nonrobust</td>    <th>                     </th>     <td> </td>   \n",
       "</tr>\n",
       "</table>\n",
       "<table class=\"simpletable\">\n",
       "<tr>\n",
       "              <td></td>                 <th>coef</th>     <th>std err</th>      <th>t</th>      <th>P>|t|</th>  <th>[0.025</th>    <th>0.975]</th>  \n",
       "</tr>\n",
       "<tr>\n",
       "  <th>Intercept</th>                 <td>   41.3625</td> <td>    3.231</td> <td>   12.800</td> <td> 0.000</td> <td>   35.007</td> <td>   47.718</td>\n",
       "</tr>\n",
       "<tr>\n",
       "  <th>actual_unit[T.BOSTON]</th>     <td>   -5.8554</td> <td>    4.404</td> <td>   -1.330</td> <td> 0.185</td> <td>  -14.517</td> <td>    2.806</td>\n",
       "</tr>\n",
       "<tr>\n",
       "  <th>actual_unit[T.CINO(IAAG)]</th> <td>   -8.9991</td> <td>    4.761</td> <td>   -1.890</td> <td> 0.060</td> <td>  -18.363</td> <td>    0.365</td>\n",
       "</tr>\n",
       "<tr>\n",
       "  <th>actual_unit[T.CMD GRP]</th>    <td>  -15.1625</td> <td>    8.132</td> <td>   -1.865</td> <td> 0.063</td> <td>  -31.157</td> <td>    0.832</td>\n",
       "</tr>\n",
       "<tr>\n",
       "  <th>actual_unit[T.HHD]</th>        <td>  -11.6788</td> <td>    3.785</td> <td>   -3.085</td> <td> 0.002</td> <td>  -19.124</td> <td>   -4.234</td>\n",
       "</tr>\n",
       "<tr>\n",
       "  <th>actual_unit[T.MNT VIEW]</th>   <td>    2.1563</td> <td>    6.463</td> <td>    0.334</td> <td> 0.739</td> <td>  -10.555</td> <td>   14.868</td>\n",
       "</tr>\n",
       "<tr>\n",
       "  <th>actual_unit[T.SUPPORT]</th>    <td>  -10.4958</td> <td>    4.645</td> <td>   -2.259</td> <td> 0.024</td> <td>  -19.633</td> <td>   -1.359</td>\n",
       "</tr>\n",
       "<tr>\n",
       "  <th>actual_unit[T.Unknown]</th>    <td>    3.0225</td> <td>    7.782</td> <td>    0.388</td> <td> 0.698</td> <td>  -12.284</td> <td>   18.329</td>\n",
       "</tr>\n",
       "</table>\n",
       "<table class=\"simpletable\">\n",
       "<tr>\n",
       "  <th>Omnibus:</th>       <td>26.639</td> <th>  Durbin-Watson:     </th> <td>   2.113</td>\n",
       "</tr>\n",
       "<tr>\n",
       "  <th>Prob(Omnibus):</th> <td> 0.000</td> <th>  Jarque-Bera (JB):  </th> <td>  30.735</td>\n",
       "</tr>\n",
       "<tr>\n",
       "  <th>Skew:</th>          <td> 0.716</td> <th>  Prob(JB):          </th> <td>2.12e-07</td>\n",
       "</tr>\n",
       "<tr>\n",
       "  <th>Kurtosis:</th>      <td> 3.184</td> <th>  Cond. No.          </th> <td>    9.73</td>\n",
       "</tr>\n",
       "</table><br/><br/>Warnings:<br/>[1] Standard Errors assume that the covariance matrix of the errors is correctly specified."
      ],
      "text/plain": [
       "<class 'statsmodels.iolib.summary.Summary'>\n",
       "\"\"\"\n",
       "                            OLS Regression Results                            \n",
       "==============================================================================\n",
       "Dep. Variable:                    trs   R-squared:                       0.048\n",
       "Model:                            OLS   Adj. R-squared:                  0.029\n",
       "Method:                 Least Squares   F-statistic:                     2.481\n",
       "Date:                Fri, 10 Apr 2020   Prob (F-statistic):             0.0170\n",
       "Time:                        14:12:25   Log-Likelihood:                -1598.7\n",
       "No. Observations:                 354   AIC:                             3213.\n",
       "Df Residuals:                     346   BIC:                             3244.\n",
       "Df Model:                           7                                         \n",
       "Covariance Type:            nonrobust                                         \n",
       "=============================================================================================\n",
       "                                coef    std err          t      P>|t|      [0.025      0.975]\n",
       "---------------------------------------------------------------------------------------------\n",
       "Intercept                    41.3625      3.231     12.800      0.000      35.007      47.718\n",
       "actual_unit[T.BOSTON]        -5.8554      4.404     -1.330      0.185     -14.517       2.806\n",
       "actual_unit[T.CINO(IAAG)]    -8.9991      4.761     -1.890      0.060     -18.363       0.365\n",
       "actual_unit[T.CMD GRP]      -15.1625      8.132     -1.865      0.063     -31.157       0.832\n",
       "actual_unit[T.HHD]          -11.6788      3.785     -3.085      0.002     -19.124      -4.234\n",
       "actual_unit[T.MNT VIEW]       2.1563      6.463      0.334      0.739     -10.555      14.868\n",
       "actual_unit[T.SUPPORT]      -10.4958      4.645     -2.259      0.024     -19.633      -1.359\n",
       "actual_unit[T.Unknown]        3.0225      7.782      0.388      0.698     -12.284      18.329\n",
       "==============================================================================\n",
       "Omnibus:                       26.639   Durbin-Watson:                   2.113\n",
       "Prob(Omnibus):                  0.000   Jarque-Bera (JB):               30.735\n",
       "Skew:                           0.716   Prob(JB):                     2.12e-07\n",
       "Kurtosis:                       3.184   Cond. No.                         9.73\n",
       "==============================================================================\n",
       "\n",
       "Warnings:\n",
       "[1] Standard Errors assume that the covariance matrix of the errors is correctly specified.\n",
       "\"\"\""
      ]
     },
     "execution_count": 81,
     "metadata": {},
     "output_type": "execute_result"
    }
   ],
   "source": [
    "mod.summary()"
   ]
  },
  {
   "cell_type": "code",
   "execution_count": 82,
   "metadata": {},
   "outputs": [],
   "source": [
    "aov_table = sm.stats.anova_lm(mod, type=2)"
   ]
  },
  {
   "cell_type": "code",
   "execution_count": 83,
   "metadata": {},
   "outputs": [
    {
     "name": "stdout",
     "output_type": "stream",
     "text": [
      "                df         sum_sq      mean_sq         F    PR(>F)\n",
      "actual_unit    7.0    8703.496724  1243.356675  2.480677  0.016984\n",
      "Residual     346.0  173420.975204   501.216691       NaN       NaN\n"
     ]
    }
   ],
   "source": [
    "print(aov_table)"
   ]
  },
  {
   "cell_type": "code",
   "execution_count": 84,
   "metadata": {},
   "outputs": [
    {
     "data": {
      "text/html": [
       "<div>\n",
       "<style scoped>\n",
       "    .dataframe tbody tr th:only-of-type {\n",
       "        vertical-align: middle;\n",
       "    }\n",
       "\n",
       "    .dataframe tbody tr th {\n",
       "        vertical-align: top;\n",
       "    }\n",
       "\n",
       "    .dataframe thead th {\n",
       "        text-align: right;\n",
       "    }\n",
       "</style>\n",
       "<table border=\"1\" class=\"dataframe\">\n",
       "  <thead>\n",
       "    <tr style=\"text-align: right;\">\n",
       "      <th></th>\n",
       "      <th>sum_sq</th>\n",
       "      <th>df</th>\n",
       "      <th>mean_sq</th>\n",
       "      <th>F</th>\n",
       "      <th>PR(&gt;F)</th>\n",
       "      <th>eta_sq</th>\n",
       "      <th>omega_sq</th>\n",
       "    </tr>\n",
       "  </thead>\n",
       "  <tbody>\n",
       "    <tr>\n",
       "      <td>actual_unit</td>\n",
       "      <td>8703.496724</td>\n",
       "      <td>7.0</td>\n",
       "      <td>1243.356675</td>\n",
       "      <td>2.480677</td>\n",
       "      <td>0.016984</td>\n",
       "      <td>0.047789</td>\n",
       "      <td>0.028446</td>\n",
       "    </tr>\n",
       "    <tr>\n",
       "      <td>Residual</td>\n",
       "      <td>173420.975204</td>\n",
       "      <td>346.0</td>\n",
       "      <td>501.216691</td>\n",
       "      <td>NaN</td>\n",
       "      <td>NaN</td>\n",
       "      <td>NaN</td>\n",
       "      <td>NaN</td>\n",
       "    </tr>\n",
       "  </tbody>\n",
       "</table>\n",
       "</div>"
      ],
      "text/plain": [
       "                    sum_sq     df      mean_sq         F    PR(>F)    eta_sq  \\\n",
       "actual_unit    8703.496724    7.0  1243.356675  2.480677  0.016984  0.047789   \n",
       "Residual     173420.975204  346.0   501.216691       NaN       NaN       NaN   \n",
       "\n",
       "             omega_sq  \n",
       "actual_unit  0.028446  \n",
       "Residual          NaN  "
      ]
     },
     "execution_count": 84,
     "metadata": {},
     "output_type": "execute_result"
    }
   ],
   "source": [
    "def anova_table(aov):\n",
    "    aov['mean_sq'] = aov[:]['sum_sq']/aov[:]['df']\n",
    "    \n",
    "    aov['eta_sq'] = aov[:-1]['sum_sq']/sum(aov['sum_sq'])\n",
    "    \n",
    "    aov['omega_sq'] = (aov[:-1]['sum_sq']-(aov[:-1]['df']*aov['mean_sq'][-1]))/(sum(aov['sum_sq'])+aov['mean_sq'][-1])\n",
    "    \n",
    "    cols = ['sum_sq', 'df', 'mean_sq', 'F', 'PR(>F)', 'eta_sq', 'omega_sq']\n",
    "    aov = aov[cols]\n",
    "    return aov\n",
    "\n",
    "anova_table(aov_table)"
   ]
  },
  {
   "cell_type": "markdown",
   "metadata": {},
   "source": [
    "### Check ANOVA Assumptions"
   ]
  },
  {
   "cell_type": "code",
   "execution_count": 86,
   "metadata": {},
   "outputs": [
    {
     "data": {
      "text/plain": [
       "{'jb': 30.734653160559805,\n",
       " 'jbpv': 2.118628765482878e-07,\n",
       " 'skew': 0.7158345595811055,\n",
       " 'kurtosis': 3.184469055015475,\n",
       " 'omni': 26.63926871586628,\n",
       " 'omnipv': 1.641936273576124e-06,\n",
       " 'condno': 9.727558847902122,\n",
       " 'mineigval': 4.529686063439224}"
      ]
     },
     "execution_count": 86,
     "metadata": {},
     "output_type": "execute_result"
    }
   ],
   "source": [
    "#when working with linear regression and ANOVA models, the assumptions pertain to the residuals \n",
    "#and not the variables themselves. \n",
    "#Using Statsmodels, we can use the diagnostics that is already provided\n",
    "mod.diagn\n",
    "#Jarque-Bera (jb; jbpv is p-value) tests the assumption of normality\n",
    "#Omnibus (omni; omnipv is p-value) tests the assumption of homogeneity of variance\n",
    "#Condition Number (condno) assess multicollinearity. \n",
    "#Condition Number values over 20 are indicative of multicollinearity.\n"
   ]
  },
  {
   "cell_type": "code",
   "execution_count": 93,
   "metadata": {},
   "outputs": [
    {
     "data": {
      "text/plain": [
       "LeveneResult(statistic=2.070612509491373, pvalue=0.05616479840082893)"
      ]
     },
     "execution_count": 93,
     "metadata": {},
     "output_type": "execute_result"
    }
   ],
   "source": [
    "# Homogeneity of Variance Check using Levene's\n",
    "#Levene’s test for homogeneity of variance is not significant \n",
    "#which indicates that the groups have equal variances.\n",
    "stats.levene(metrics_frame['Total Readiness Score'][metrics_frame['ACTUAL UNIT'] == 'BOSTON'],\n",
    "             metrics_frame['Total Readiness Score'][metrics_frame['ACTUAL UNIT'] == 'CINO(IAAG)'],\n",
    "             metrics_frame['Total Readiness Score'][metrics_frame['ACTUAL UNIT'] == 'CMD GRP'],\n",
    "             metrics_frame['Total Readiness Score'][metrics_frame['ACTUAL UNIT'] == 'HHD'],\n",
    "             metrics_frame['Total Readiness Score'][metrics_frame['ACTUAL UNIT'] == 'SUPPORT'],\n",
    "             metrics_frame['Total Readiness Score'][metrics_frame['ACTUAL UNIT'] == 'MNT VIEW'],\n",
    "             metrics_frame['Total Readiness Score'][metrics_frame['ACTUAL UNIT'] == 'AUSTIN'])"
   ]
  },
  {
   "cell_type": "code",
   "execution_count": 108,
   "metadata": {},
   "outputs": [
    {
     "data": {
      "text/plain": [
       "<matplotlib.axes._subplots.AxesSubplot at 0x2514de02188>"
      ]
     },
     "execution_count": 108,
     "metadata": {},
     "output_type": "execute_result"
    },
    {
     "data": {
      "image/png": "[encoded data removed]",
      "text/plain": [
       "<Figure size 432x288 with 1 Axes>"
      ]
     },
     "metadata": {
      "needs_background": "light"
     },
     "output_type": "display_data"
    }
   ],
   "source": [
    "#sns.residplot(metrics_frame.actual_unit, metrics_frame.trs.astype('float'), lowess=True, color=\"g\")\n",
    "mod.resid.hist()"
   ]
  },
  {
   "cell_type": "code",
   "execution_count": 87,
   "metadata": {},
   "outputs": [
    {
     "data": {
      "text/plain": [
       "(0.958018958568573, 1.5843554024286277e-08)"
      ]
     },
     "execution_count": 87,
     "metadata": {},
     "output_type": "execute_result"
    }
   ],
   "source": [
    "# Residual Normality check\n",
    "#tested on the residuals as a whole which is how the diagnostic information provided by statsmodels tests\n",
    "#the residuals. One could use the Jarque-Bera test provided, or one could use Shapiro or others.\n",
    "stats.shapiro(mod.resid)\n"
   ]
  },
  {
   "cell_type": "markdown",
   "metadata": {},
   "source": [
    "## ANOVA Post-Hoc Analysis\n",
    "\n",
    "### Tukey All pairwise comparison"
   ]
  },
  {
   "cell_type": "code",
   "execution_count": 49,
   "metadata": {},
   "outputs": [
    {
     "name": "stdout",
     "output_type": "stream",
     "text": [
      "     Multiple Comparison of Means - Tukey HSD, FWER=0.10     \n",
      "=============================================================\n",
      "  group1     group2   meandiff p-adj   lower    upper  reject\n",
      "-------------------------------------------------------------\n",
      "    AUSTIN     BOSTON  -5.8554 0.8831 -18.1554  6.4446  False\n",
      "    AUSTIN CINO(IAAG)  -8.9991 0.5503 -22.2971  4.2989  False\n",
      "    AUSTIN    CMD GRP -15.1625 0.5655 -37.8768  7.5518  False\n",
      "    AUSTIN        HHD -11.6788 0.0451 -22.2512 -1.1064   True\n",
      "    AUSTIN   MNT VIEW   2.1563    0.9 -15.8952 20.2077  False\n",
      "    AUSTIN    SUPPORT -10.4958 0.3193 -23.4711  2.4795  False\n",
      "    AUSTIN    Unknown   3.0225    0.9 -18.7143 24.7593  False\n",
      "    BOSTON CINO(IAAG)  -3.1437    0.9 -15.9967  9.7092  False\n",
      "    BOSTON    CMD GRP  -9.3071    0.9 -31.7638 13.1495  False\n",
      "    BOSTON        HHD  -5.8234 0.7075 -15.8303  4.1835  False\n",
      "    BOSTON   MNT VIEW   8.0116    0.9  -9.7146 25.7378  False\n",
      "    BOSTON    SUPPORT  -4.6405    0.9 -17.1593  7.8783  False\n",
      "    BOSTON    Unknown   8.8779    0.9 -12.5896 30.3453  False\n",
      "CINO(IAAG)    CMD GRP  -6.1634    0.9 -29.1818  16.855  False\n",
      "CINO(IAAG)        HHD  -2.6797    0.9 -13.8906  8.5312  False\n",
      "CINO(IAAG)   MNT VIEW  11.1553 0.6689  -7.2774  29.588  False\n",
      "CINO(IAAG)    SUPPORT  -1.4967    0.9 -14.9974 12.0039  False\n",
      "CINO(IAAG)    Unknown  12.0216 0.7686 -10.0329  34.076  False\n",
      "   CMD GRP        HHD   3.4837    0.9 -18.0752 25.0426  False\n",
      "   CMD GRP   MNT VIEW  17.3187 0.5702  -8.7363 43.3738  False\n",
      "   CMD GRP    SUPPORT   4.6667    0.9 -18.1668 27.5002  False\n",
      "   CMD GRP    Unknown   18.185 0.6229 -10.5465 46.9165  False\n",
      "       HHD   MNT VIEW   13.835 0.2796  -2.7392 30.4092  False\n",
      "       HHD    SUPPORT   1.1829    0.9  -9.6433 12.0092  False\n",
      "       HHD    Unknown  14.7013  0.484  -5.8253 35.2278  False\n",
      "  MNT VIEW    SUPPORT -12.6521 0.5197 -30.8534  5.5492  False\n",
      "  MNT VIEW    Unknown   0.8663    0.9 -24.3413 26.0738  False\n",
      "   SUPPORT    Unknown  13.5183 0.6471  -8.3431 35.3797  False\n",
      "-------------------------------------------------------------\n",
      "Unique actual_unit groups: ['AUSTIN' 'BOSTON' 'CINO(IAAG)' 'CMD GRP' 'HHD' 'MNT VIEW' 'SUPPORT'\n",
      " 'Unknown']\n"
     ]
    }
   ],
   "source": [
    "mc = MultiComparison(metrics_frame['trs'],metrics_frame['actual_unit'])\n",
    "tukey_result = mc.tukeyhsd(alpha=0.10)\n",
    "print(tukey_result)\n",
    "print('Unique actual_unit groups: {}'.format(mc.groupsunique))"
   ]
  },
  {
   "cell_type": "markdown",
   "metadata": {},
   "source": [
    "### Dunnett's Method post hoc"
   ]
  },
  {
   "cell_type": "markdown",
   "metadata": {},
   "source": [
    "### Hsus's Multiple comparisons to the best"
   ]
  },
  {
   "cell_type": "code",
   "execution_count": null,
   "metadata": {},
   "outputs": [],
   "source": []
  }
 ],
 "metadata": {
  "kernelspec": {
   "display_name": "Python 3",
   "language": "python",
   "name": "python3"
  },
  "language_info": {
   "codemirror_mode": {
    "name": "ipython",
    "version": 3
   },
   "file_extension": ".py",
   "mimetype": "text/x-python",
   "name": "python",
   "nbconvert_exporter": "python",
   "pygments_lexer": "ipython3",
   "version": "3.7.4"
  }
 },
 "nbformat": 4,
 "nbformat_minor": 2
}
